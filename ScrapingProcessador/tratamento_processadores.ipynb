{
 "cells": [
  {
   "cell_type": "code",
   "execution_count": 18,
   "metadata": {},
   "outputs": [],
   "source": [
    "import pandas as pd;\n",
    "import re\n",
    "\n",
    "df = pd.read_excel('../Processadores.xlsx')"
   ]
  },
  {
   "cell_type": "code",
   "execution_count": 19,
   "metadata": {},
   "outputs": [
    {
     "name": "stdout",
     "output_type": "stream",
     "text": [
      "0      2222.21\n",
      "1          NaN\n",
      "2      1222.21\n",
      "3      1326.22\n",
      "4      1068.17\n",
      "        ...   \n",
      "369        NaN\n",
      "370        NaN\n",
      "371        NaN\n",
      "372        NaN\n",
      "373        NaN\n",
      "Name: preco_anterior, Length: 374, dtype: object\n"
     ]
    },
    {
     "name": "stderr",
     "output_type": "stream",
     "text": [
      "<>:1: SyntaxWarning: invalid escape sequence '\\$'\n",
      "<>:1: SyntaxWarning: invalid escape sequence '\\$'\n",
      "C:\\Users\\48260449846\\AppData\\Local\\Temp\\ipykernel_41724\\4253348766.py:1: SyntaxWarning: invalid escape sequence '\\$'\n",
      "  df['preco_anterior'] = df['preco_anterior'].str.replace('R\\$', '', regex=True)\n"
     ]
    }
   ],
   "source": [
    "df['preco_anterior'] = df['preco_anterior'].str.replace('R\\$', '', regex=True)\n",
    "df['preco_anterior'] = df['preco_anterior'].str.replace('.', '', regex=False) \n",
    "df['preco_anterior'] = df['preco_anterior'].str.replace(',', '.', regex=False)\n",
    "df['preco_anterior'] = df['preco_anterior'].str.strip()\n",
    "print(df['preco_anterior'])"
   ]
  },
  {
   "cell_type": "code",
   "execution_count": 20,
   "metadata": {},
   "outputs": [],
   "source": [
    "df['preco_anterior'] = df['preco_anterior'].astype(float)"
   ]
  },
  {
   "cell_type": "code",
   "execution_count": 21,
   "metadata": {},
   "outputs": [
    {
     "name": "stdout",
     "output_type": "stream",
     "text": [
      "0           2222.21\n",
      "1      Desconhecido\n",
      "2           1222.21\n",
      "3           1326.22\n",
      "4           1068.17\n",
      "           ...     \n",
      "369    Desconhecido\n",
      "370    Desconhecido\n",
      "371    Desconhecido\n",
      "372    Desconhecido\n",
      "373    Desconhecido\n",
      "Name: preco_anterior, Length: 374, dtype: object\n"
     ]
    },
    {
     "name": "stderr",
     "output_type": "stream",
     "text": [
      "C:\\Users\\48260449846\\AppData\\Local\\Temp\\ipykernel_41724\\350384653.py:1: FutureWarning: A value is trying to be set on a copy of a DataFrame or Series through chained assignment using an inplace method.\n",
      "The behavior will change in pandas 3.0. This inplace method will never work because the intermediate object on which we are setting values always behaves as a copy.\n",
      "\n",
      "For example, when doing 'df[col].method(value, inplace=True)', try using 'df.method({col: value}, inplace=True)' or df[col] = df[col].method(value) instead, to perform the operation inplace on the original object.\n",
      "\n",
      "\n",
      "  df['preco_anterior'].fillna('Desconhecido', inplace=True)\n",
      "C:\\Users\\48260449846\\AppData\\Local\\Temp\\ipykernel_41724\\350384653.py:1: FutureWarning: Setting an item of incompatible dtype is deprecated and will raise an error in a future version of pandas. Value 'Desconhecido' has dtype incompatible with float64, please explicitly cast to a compatible dtype first.\n",
      "  df['preco_anterior'].fillna('Desconhecido', inplace=True)\n"
     ]
    }
   ],
   "source": [
    "df['preco_anterior'].fillna('Desconhecido', inplace=True)\n",
    "print(df['preco_anterior'])"
   ]
  },
  {
   "cell_type": "code",
   "execution_count": 22,
   "metadata": {},
   "outputs": [
    {
     "name": "stdout",
     "output_type": "stream",
     "text": [
      "0      1749.99\n",
      "1       656.01\n",
      "2       999.99\n",
      "3       599.99\n",
      "4       749.99\n",
      "        ...   \n",
      "369    1664.99\n",
      "370     399.90\n",
      "371    3160.23\n",
      "372     116.04\n",
      "373    2635.38\n",
      "Name: preco_atual, Length: 374, dtype: object\n"
     ]
    },
    {
     "name": "stderr",
     "output_type": "stream",
     "text": [
      "<>:1: SyntaxWarning: invalid escape sequence '\\$'\n",
      "<>:1: SyntaxWarning: invalid escape sequence '\\$'\n",
      "C:\\Users\\48260449846\\AppData\\Local\\Temp\\ipykernel_41724\\2266943591.py:1: SyntaxWarning: invalid escape sequence '\\$'\n",
      "  df['preco_atual'] = df['preco_atual'].str.replace('R\\$', '', regex=True)\n"
     ]
    }
   ],
   "source": [
    "df['preco_atual'] = df['preco_atual'].str.replace('R\\$', '', regex=True)\n",
    "df['preco_atual'] = df['preco_atual'].str.replace('.', '', regex=False) \n",
    "df['preco_atual'] = df['preco_atual'].str.replace(',', '.', regex=False)\n",
    "df['preco_atual'] = df['preco_atual'].str.strip()\n",
    "print(df['preco_atual'])"
   ]
  },
  {
   "cell_type": "code",
   "execution_count": 23,
   "metadata": {},
   "outputs": [
    {
     "name": "stdout",
     "output_type": "stream",
     "text": [
      "0      1749.99\n",
      "1       656.01\n",
      "2       999.99\n",
      "3       599.99\n",
      "4       749.99\n",
      "        ...   \n",
      "369    1664.99\n",
      "370     399.90\n",
      "371    3160.23\n",
      "372     116.04\n",
      "373    2635.38\n",
      "Name: preco_atual, Length: 374, dtype: float64\n"
     ]
    }
   ],
   "source": [
    "df['preco_atual'] = df['preco_atual'].astype(float)\n",
    "print(df['preco_atual'])"
   ]
  },
  {
   "cell_type": "code",
   "execution_count": 24,
   "metadata": {},
   "outputs": [
    {
     "name": "stdout",
     "output_type": "stream",
     "text": [
      "768644.0800000001\n"
     ]
    }
   ],
   "source": [
    "print(df['preco_atual'].sum())"
   ]
  },
  {
   "cell_type": "code",
   "execution_count": 25,
   "metadata": {},
   "outputs": [],
   "source": [
    "df = df.dropna()"
   ]
  },
  {
   "cell_type": "code",
   "execution_count": 26,
   "metadata": {},
   "outputs": [],
   "source": [
    "# Extrações do título\n",
    "MARCAS = {\n",
    "    'AMD': 'AMD',\n",
    "    'Intel': 'Intel',\n",
    "    'Amd': 'Amd'\n",
    "}\n",
    "\n",
    "def extrair_info(titulo):\n",
    "    marca = next((v for k, v in MARCAS.items() if k in titulo), 'Desconhecida')\n",
    "\n",
    "    modelo_match = re.search(r'(?i)(Ryzen \\d+\\s*[\\w\\d\\-+]*|Threadripper\\s*Pro\\s*\\d*\\w*|Core\\s*i\\d+[- ]?\\d*\\w*|Core\\s*I\\d+[- ]?\\w*|Celeron\\s*\\w+|Pentium\\s*\\d+\\s*Gold\\s*\\w+|Ultra\\s*\\d+\\w*|Athlon\\s*\\d+\\w*)', titulo)\n",
    "    modelo = modelo_match.group(0).strip() if modelo_match else 'Desconhecido'\n",
    "\n",
    "    # Frequência base: sem \"Max Turbo\" e fora de parênteses (simplificado para evitar erro)\n",
    "    freq_base = re.search(r'(?i)(\\d+[\\.,]?\\d*)\\s*Ghz\\b(?![^()]*Max\\s*Turbo)', titulo)\n",
    "\n",
    "    # Frequência turbo: variações com \"Max Turbo\", dentro ou fora de parênteses\n",
    "    freq_turbo = re.search(r'(?i)(?:(\\d+[\\.,]?\\d*)\\s*Ghz\\s*Max\\s*Turbo|Max\\s*Turbo\\s*(\\d+[\\.,]?\\d*)\\s*Ghz|Turbo\\s*clock\\s*(\\d+[\\.,]?\\d*)\\s*Ghz)', titulo)\n",
    "\n",
    "    turbo_val = None\n",
    "    if freq_turbo:\n",
    "        for group in freq_turbo.groups():\n",
    "            if group:\n",
    "                turbo_val = group\n",
    "                break\n",
    "\n",
    "    cache_match = re.search(r'(?i)Cache\\s*(\\d+)\\s*MB', titulo)\n",
    "    if not cache_match:\n",
    "        cache_match = re.search(r'(?i)(\\d+)\\s*MB\\s*Cache', titulo)\n",
    "\n",
    "    def to_float(value):\n",
    "        try:\n",
    "            return float(value.replace(',', '.'))\n",
    "        except:\n",
    "            return None\n",
    "\n",
    "    return pd.Series({\n",
    "        'marca': marca,\n",
    "        'modelo': modelo,\n",
    "        'freq_base_GHz': to_float(freq_base.group(1)) if freq_base else None,\n",
    "        'freq_turbo_GHz': to_float(turbo_val) if turbo_val else None,\n",
    "        'cache_MB': int(cache_match.group(1)) if cache_match else None\n",
    "    })\n",
    "\n",
    "info_extraida = df['titulo'].apply(extrair_info)\n",
    "df = pd.concat([df, info_extraida], axis=1)\n",
    "\n"
   ]
  },
  {
   "cell_type": "code",
   "execution_count": 27,
   "metadata": {},
   "outputs": [],
   "source": [
    "df['marca'] = df['marca'].replace('Amd', 'AMD')"
   ]
  },
  {
   "cell_type": "code",
   "execution_count": 28,
   "metadata": {},
   "outputs": [],
   "source": [
    "df['em_estoque'] = df['em_estoque'].str.replace('Restam', '')\n",
    "df['em_estoque'] = df['em_estoque'].str.replace('unid.', '')\n",
    "df['em_estoque'] = df['em_estoque'].str.strip()\n",
    "df['em_estoque'] = df['em_estoque'].astype(int)"
   ]
  },
  {
   "cell_type": "code",
   "execution_count": 29,
   "metadata": {},
   "outputs": [],
   "source": [
    "df['freq_base_GHz'] = df['freq_base_GHz'].fillna(df['freq_base_GHz'].median())\n",
    "df['freq_turbo_GHz'] = df['freq_turbo_GHz'].fillna(df['freq_turbo_GHz'].median())\n",
    "df['cache_MB'] = df['cache_MB'].fillna(df['cache_MB'].median())"
   ]
  },
  {
   "cell_type": "code",
   "execution_count": 30,
   "metadata": {},
   "outputs": [],
   "source": [
    "df.to_excel('processadores_filtrados.xlsx', index=False)"
   ]
  },
  {
   "cell_type": "code",
   "execution_count": 31,
   "metadata": {},
   "outputs": [
    {
     "name": "stdout",
     "output_type": "stream",
     "text": [
      "218905.56\n",
      "302683.94000000006\n",
      "                                                titulo  preco_atual  \\\n",
      "6    Processador AMD Ryzen 7 5700X, 3.4GHz (4.6GHz ...      1319.99   \n",
      "11   Processador AMD Ryzen 5 9600X, 3.9 GHz (5.4 GH...      1649.99   \n",
      "18   Processador Intel Core i5-14600K, 14ª Geração,...      1749.99   \n",
      "34   Processador Intel Core i7-12700F, 2.1GHz (4.9G...      1699.99   \n",
      "35   Processador AMD Ryzen 7 8700G, 4.2GHz (5.1GHz ...      1949.99   \n",
      "..                                                 ...          ...   \n",
      "226  Processador AMD Ryzen Threadripper Pro 5995WX,...     37999.99   \n",
      "236  Processador Intel Core I9-12900KF, 3.2GHz, Cac...      2979.00   \n",
      "249  Processador Intel Pentium Gold G6405, 10ª Gera...       509.00   \n",
      "289  Processador Intel Core Ultra 7 265kf Arrow Lak...      2669.00   \n",
      "331  Processador Intel Ultra 5 245k Arrow Lake 4.2g...      2469.00   \n",
      "\n",
      "    preco_anterior  em_estoque  marca                   modelo  freq_base_GHz  \\\n",
      "6           2840.9          80    AMD            Ryzen 7 5700X            3.4   \n",
      "11          2173.9          47    AMD            Ryzen 5 9600X            3.9   \n",
      "18          2753.4          99  Intel           Core i5-14600K            3.7   \n",
      "34         2282.59          98  Intel           Core i7-12700F            2.1   \n",
      "35          2282.6          84    AMD            Ryzen 7 8700G            4.2   \n",
      "..             ...         ...    ...                      ...            ...   \n",
      "226       52941.16           1    AMD  Threadripper Pro 5995WX            3.7   \n",
      "236         3591.9           2  Intel          Core I9-12900KF            3.2   \n",
      "249          617.9          95  Intel             Desconhecido            4.1   \n",
      "289         3270.9          23  Intel                  Ultra 7            3.9   \n",
      "331         3051.9          20  Intel                  Ultra 5            4.2   \n",
      "\n",
      "     freq_turbo_GHz  cache_MB  \n",
      "6              4.60      36.0  \n",
      "11             5.05      32.0  \n",
      "18             5.30      24.0  \n",
      "34             4.90      25.0  \n",
      "35             5.10       8.0  \n",
      "..              ...       ...  \n",
      "226            5.05     256.0  \n",
      "236            5.05      30.0  \n",
      "249            5.05      27.5  \n",
      "289            5.05      27.5  \n",
      "331            5.05      27.5  \n",
      "\n",
      "[70 rows x 9 columns]\n"
     ]
    }
   ],
   "source": [
    "print(df['preco_atual'].sum())\n",
    "print(df['preco_anterior'].sum())\n",
    "print(df)"
   ]
  }
 ],
 "metadata": {
  "kernelspec": {
   "display_name": "Python 3",
   "language": "python",
   "name": "python3"
  },
  "language_info": {
   "codemirror_mode": {
    "name": "ipython",
    "version": 3
   },
   "file_extension": ".py",
   "mimetype": "text/x-python",
   "name": "python",
   "nbconvert_exporter": "python",
   "pygments_lexer": "ipython3",
   "version": "3.12.1"
  }
 },
 "nbformat": 4,
 "nbformat_minor": 2
}
