{
 "cells": [
  {
   "cell_type": "code",
   "execution_count": 150,
   "metadata": {},
   "outputs": [],
   "source": [
    "import pandas as pd;\n",
    "import re\n",
    "\n",
    "df = pd.read_excel('../Processadores.xlsx')"
   ]
  },
  {
   "cell_type": "code",
   "execution_count": 151,
   "metadata": {},
   "outputs": [
    {
     "name": "stdout",
     "output_type": "stream",
     "text": [
      "0      2222.21\n",
      "1          NaN\n",
      "2      1222.21\n",
      "3      1326.22\n",
      "4      1068.17\n",
      "        ...   \n",
      "369        NaN\n",
      "370        NaN\n",
      "371        NaN\n",
      "372        NaN\n",
      "373        NaN\n",
      "Name: preco_anterior, Length: 374, dtype: object\n"
     ]
    }
   ],
   "source": [
    "df['preco_anterior'] = df['preco_anterior'].str.replace('R$', '')\n",
    "df['preco_anterior'] = df['preco_anterior'].str.replace('.', '')\n",
    "df['preco_anterior'] = df['preco_anterior'].str.replace(',', '.')\n",
    "df['preco_anterior'] = df['preco_anterior'].str.strip()\n",
    "print(df['preco_anterior']) "
   ]
  },
  {
   "cell_type": "code",
   "execution_count": 152,
   "metadata": {},
   "outputs": [
    {
     "name": "stdout",
     "output_type": "stream",
     "text": [
      "0      2222.21\n",
      "1          NaN\n",
      "2      1222.21\n",
      "3      1326.22\n",
      "4      1068.17\n",
      "        ...   \n",
      "369        NaN\n",
      "370        NaN\n",
      "371        NaN\n",
      "372        NaN\n",
      "373        NaN\n",
      "Name: preco_anterior, Length: 374, dtype: float64\n"
     ]
    }
   ],
   "source": [
    "df['preco_anterior'] = df['preco_anterior'].astype(float)\n",
    "print(df['preco_anterior'])"
   ]
  },
  {
   "cell_type": "code",
   "execution_count": 153,
   "metadata": {},
   "outputs": [
    {
     "name": "stdout",
     "output_type": "stream",
     "text": [
      "0      2.222,21\n",
      "1              \n",
      "2      1.222,21\n",
      "3      1.326,22\n",
      "4      1.068,17\n",
      "         ...   \n",
      "369            \n",
      "370            \n",
      "371            \n",
      "372            \n",
      "373            \n",
      "Name: preco_anterior, Length: 374, dtype: object\n"
     ]
    }
   ],
   "source": [
    "def formatar_brl_sem_cifrao(valor):\n",
    "    if pd.isna(valor):\n",
    "        return ''\n",
    "    return '{:,.2f}'.format(valor).replace(',', 'X').replace('.', ',').replace('X', '.')\n",
    "\n",
    "df['preco_anterior'] = df['preco_anterior'].apply(formatar_brl_sem_cifrao)\n",
    "print(df['preco_anterior'])"
   ]
  },
  {
   "cell_type": "code",
   "execution_count": 154,
   "metadata": {},
   "outputs": [
    {
     "name": "stdout",
     "output_type": "stream",
     "text": [
      "0      1749.99\n",
      "1       656.01\n",
      "2       999.99\n",
      "3       599.99\n",
      "4       749.99\n",
      "        ...   \n",
      "369    1664.99\n",
      "370     399.90\n",
      "371    3160.23\n",
      "372     116.04\n",
      "373    2635.38\n",
      "Name: preco_atual, Length: 374, dtype: object\n"
     ]
    }
   ],
   "source": [
    "df['preco_atual'] = df['preco_atual'].str.replace('R$', '')\n",
    "df['preco_atual'] = df['preco_atual'].str.replace('.', '')\n",
    "df['preco_atual'] = df['preco_atual'].str.replace(',', '.')\n",
    "df['preco_atual'] = df['preco_atual'].str.strip()\n",
    "print(df['preco_atual'])"
   ]
  },
  {
   "cell_type": "code",
   "execution_count": 155,
   "metadata": {},
   "outputs": [
    {
     "name": "stdout",
     "output_type": "stream",
     "text": [
      "1749.99\n"
     ]
    }
   ],
   "source": [
    "df['preco_atual'] = df['preco_atual'].astype(float)\n",
    "print(df['preco_atual'][0])"
   ]
  },
  {
   "cell_type": "code",
   "execution_count": 156,
   "metadata": {},
   "outputs": [
    {
     "name": "stdout",
     "output_type": "stream",
     "text": [
      "0      1.749,99\n",
      "1        656,01\n",
      "2        999,99\n",
      "3        599,99\n",
      "4        749,99\n",
      "         ...   \n",
      "369    1.664,99\n",
      "370      399,90\n",
      "371    3.160,23\n",
      "372      116,04\n",
      "373    2.635,38\n",
      "Name: preco_atual, Length: 374, dtype: object\n"
     ]
    }
   ],
   "source": [
    "def formatar_brl_sem_cifrao(valor):\n",
    "    if pd.isna(valor):\n",
    "        return ''\n",
    "    return '{:,.2f}'.format(valor).replace(',', 'X').replace('.', ',').replace('X', '.')\n",
    "\n",
    "df['preco_atual'] = df['preco_atual'].apply(formatar_brl_sem_cifrao)\n",
    "print(df['preco_atual'])"
   ]
  },
  {
   "cell_type": "code",
   "execution_count": 157,
   "metadata": {},
   "outputs": [
    {
     "name": "stdout",
     "output_type": "stream",
     "text": [
      "0      2.222,21\n",
      "1              \n",
      "2      1.222,21\n",
      "3      1.326,22\n",
      "4      1.068,17\n",
      "         ...   \n",
      "369            \n",
      "370            \n",
      "371            \n",
      "372            \n",
      "373            \n",
      "Name: preco_anterior, Length: 374, dtype: object\n"
     ]
    },
    {
     "name": "stderr",
     "output_type": "stream",
     "text": [
      "C:\\Users\\48260449846\\AppData\\Local\\Temp\\ipykernel_8992\\350384653.py:1: FutureWarning: A value is trying to be set on a copy of a DataFrame or Series through chained assignment using an inplace method.\n",
      "The behavior will change in pandas 3.0. This inplace method will never work because the intermediate object on which we are setting values always behaves as a copy.\n",
      "\n",
      "For example, when doing 'df[col].method(value, inplace=True)', try using 'df.method({col: value}, inplace=True)' or df[col] = df[col].method(value) instead, to perform the operation inplace on the original object.\n",
      "\n",
      "\n",
      "  df['preco_anterior'].fillna('Desconhecido', inplace=True)\n"
     ]
    }
   ],
   "source": [
    "df['preco_anterior'].fillna('Desconhecido', inplace=True)\n",
    "print(df['preco_anterior'])"
   ]
  },
  {
   "cell_type": "code",
   "execution_count": 158,
   "metadata": {},
   "outputs": [
    {
     "name": "stdout",
     "output_type": "stream",
     "text": [
      "70\n"
     ]
    }
   ],
   "source": [
    "df = df.dropna()\n",
    "print(len(df))"
   ]
  },
  {
   "cell_type": "code",
   "execution_count": 159,
   "metadata": {},
   "outputs": [
    {
     "name": "stdout",
     "output_type": "stream",
     "text": [
      "                                                titulo preco_atual  \\\n",
      "6    Processador AMD Ryzen 7 5700X, 3.4GHz (4.6GHz ...    1.319,99   \n",
      "11   Processador AMD Ryzen 5 9600X, 3.9 GHz (5.4 GH...    1.649,99   \n",
      "18   Processador Intel Core i5-14600K, 14ª Geração,...    1.749,99   \n",
      "34   Processador Intel Core i7-12700F, 2.1GHz (4.9G...    1.699,99   \n",
      "35   Processador AMD Ryzen 7 8700G, 4.2GHz (5.1GHz ...    1.949,99   \n",
      "..                                                 ...         ...   \n",
      "226  Processador AMD Ryzen Threadripper Pro 5995WX,...   37.999,99   \n",
      "236  Processador Intel Core I9-12900KF, 3.2GHz, Cac...    2.979,00   \n",
      "249  Processador Intel Pentium Gold G6405, 10ª Gera...      509,00   \n",
      "289  Processador Intel Core Ultra 7 265kf Arrow Lak...    2.669,00   \n",
      "331  Processador Intel Ultra 5 245k Arrow Lake 4.2g...    2.469,00   \n",
      "\n",
      "    preco_anterior       em_estoque  marca           modelo  freq_base_GHz  \\\n",
      "6         2.840,90  Restam 80 unid.    AMD   Ryzen 7 5700X,            3.4   \n",
      "11        2.173,90  Restam 47 unid.    AMD   Ryzen 5 9600X,            3.9   \n",
      "18        2.753,40  Restam 99 unid.  Intel  Core i5-14600K,            5.3   \n",
      "34        2.282,59  Restam 98 unid.  Intel  Core i7-12700F,            2.1   \n",
      "35        2.282,60  Restam 84 unid.    AMD   Ryzen 7 8700G,            4.2   \n",
      "..             ...              ...    ...              ...            ...   \n",
      "226      52.941,16   Restam 1 unid.    AMD     Desconhecido            NaN   \n",
      "236       3.591,90   Restam 2 unid.  Intel        Core I9-1            3.2   \n",
      "249         617,90  Restam 95 unid.  Intel     Desconhecido            4.1   \n",
      "289       3.270,90  Restam 23 unid.  Intel          Ultra 7            NaN   \n",
      "331       3.051,90  Restam 20 unid.  Intel          Ultra 5            NaN   \n",
      "\n",
      "     freq_turbo_GHz  cache_MB  \n",
      "6               4.6      36.0  \n",
      "11              NaN       NaN  \n",
      "18              NaN      24.0  \n",
      "34              4.9      25.0  \n",
      "35              5.1       8.0  \n",
      "..              ...       ...  \n",
      "226             NaN       NaN  \n",
      "236             NaN      30.0  \n",
      "249             NaN       NaN  \n",
      "289             NaN       NaN  \n",
      "331             NaN       NaN  \n",
      "\n",
      "[70 rows x 9 columns]\n"
     ]
    }
   ],
   "source": [
    "# Extrações do título\n",
    "MARCAS = {\n",
    "    'AMD': 'AMD',\n",
    "    'Intel': 'Intel',\n",
    "    'Amd': 'Amd'\n",
    "}\n",
    "\n",
    "def extrair_info(titulo):\n",
    "    marca = next((v for k, v in MARCAS.items() if k in titulo), 'Desconhecida')\n",
    "    modelo_match = re.search(r'(Ryzen \\d+ \\S+|Core i\\d+-\\d+\\S*|Core I\\d+-\\S|Core I\\d+ - \\S*|Core I\\d+ \\S*|Core \\d+Ultra\\S*|Ultra \\d+\\S*|Celeron \\d+ \\S*|Pentium \\d+ Gold \\S*|Ryzen \\d+Threadripper Pro\\S*|Ryzen \\d+ Radeon \\S)', titulo)\n",
    "    modelo = modelo_match.group(0) if modelo_match else 'Desconhecido'\n",
    "    freq_base = re.search(r'(\\d+(\\.\\d+)?)\\s*GHz', titulo)\n",
    "    freq_turbo = re.search(r'\\((\\d+(\\.\\d+)?)GHz', titulo)\n",
    "    cache_match = re.search(r'Cache (\\d+)MB', titulo)\n",
    "\n",
    "    return pd.Series({\n",
    "        'marca': marca,\n",
    "        'modelo': modelo,\n",
    "        'freq_base_GHz': float(freq_base.group(1)) if freq_base else None,\n",
    "        'freq_turbo_GHz': float(freq_turbo.group(1)) if freq_turbo else None,\n",
    "        'cache_MB': int(cache_match.group(1)) if cache_match else None\n",
    "    })\n",
    "\n",
    "info_extraida = df['titulo'].apply(extrair_info)\n",
    "df = pd.concat([df, info_extraida], axis=1)\n",
    "print(df)"
   ]
  },
  {
   "cell_type": "code",
   "execution_count": 160,
   "metadata": {},
   "outputs": [],
   "source": [
    "# df = df.dropna()\n",
    "# print(len(df))"
   ]
  },
  {
   "cell_type": "code",
   "execution_count": 161,
   "metadata": {},
   "outputs": [],
   "source": [
    "df.to_excel('processadores_filtrados.xlsx', index=False)"
   ]
  }
 ],
 "metadata": {
  "kernelspec": {
   "display_name": "Python 3",
   "language": "python",
   "name": "python3"
  },
  "language_info": {
   "codemirror_mode": {
    "name": "ipython",
    "version": 3
   },
   "file_extension": ".py",
   "mimetype": "text/x-python",
   "name": "python",
   "nbconvert_exporter": "python",
   "pygments_lexer": "ipython3",
   "version": "3.12.1"
  }
 },
 "nbformat": 4,
 "nbformat_minor": 2
}
