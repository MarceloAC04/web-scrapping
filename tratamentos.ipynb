{
 "cells": [
  {
   "cell_type": "code",
   "execution_count": 2,
   "metadata": {},
   "outputs": [],
   "source": [
    "import pandas as pd;\n",
    "\n",
    "df = pd.read_excel('cadeiras.xlsx')"
   ]
  },
  {
   "cell_type": "code",
   "execution_count": 3,
   "metadata": {},
   "outputs": [
    {
     "name": "stdout",
     "output_type": "stream",
     "text": [
      "0        599.90\n",
      "1        599.90\n",
      "2        889.90\n",
      "3        889.90\n",
      "4        839.90\n",
      "         ...   \n",
      "750    1.259.91\n",
      "751      733.94\n",
      "752      673.26\n",
      "753    1.329.05\n",
      "754    1.329.05\n",
      "Name: preco, Length: 755, dtype: object\n"
     ]
    }
   ],
   "source": [
    "df['preco'] = df['preco'].str.replace('R$', '')\n",
    "df['preco'] = df['preco'].str.replace(',', '.')\n",
    "df['preco'] = df['preco'].str.strip()\n",
    "print(df['preco'])"
   ]
  },
  {
   "cell_type": "code",
   "execution_count": 4,
   "metadata": {},
   "outputs": [
    {
     "name": "stdout",
     "output_type": "stream",
     "text": [
      "                                                 marca            cores  \\\n",
      "0    Cadeira Gamer KBM! GAMING CG200, Preto - Pistã...            preto   \n",
      "1    Cadeira Gamer KBM! GAMING CG200, Preto e Branc...    preto, branco   \n",
      "2    Cadeira Gamer KBM! GAMING Tempest CG600, Preta...             None   \n",
      "3    Cadeira Gamer KBM! GAMING Tempest CG600, Branc...           branco   \n",
      "4    Cadeira Gamer KBM! GAMING Tempest CG500 Preta ...             None   \n",
      "..                                                 ...              ...   \n",
      "750        Cadeira Gamer Havit GC932, Vermelho E Preto  vermelho, preto   \n",
      "751  Cadeira Gamer Stars, Com Encosto Reclinável, M...             azul   \n",
      "752  Cadeira Gamer Boxbit Raptor, Preta E Cinza, Ba...            cinza   \n",
      "753  Cadeira Gamer XT Racer Taycan Escritório Ergon...     preto, cinza   \n",
      "754  Cadeira Gamer XT Racer Taycan Escritório Ergon...  preto, vermelho   \n",
      "\n",
      "        preco  \n",
      "0      599.90  \n",
      "1      599.90  \n",
      "2      889.90  \n",
      "3      889.90  \n",
      "4      839.90  \n",
      "..        ...  \n",
      "750  1.259.91  \n",
      "751    733.94  \n",
      "752    673.26  \n",
      "753  1.329.05  \n",
      "754  1.329.05  \n",
      "\n",
      "[755 rows x 3 columns]\n"
     ]
    }
   ],
   "source": [
    "\n",
    "# Regex para cores\n",
    "regex_cores = r'\\b(preto|vermelho|azul|branco|cinza|rosa|verde|roxo|amarelo|laranja|marrom|bege|dourado|prata|uva|geada)\\b'\n",
    "\n",
    "# Extrai cores como lista\n",
    "df['cores'] = df['marca'].str.lower().str.findall(regex_cores)\n",
    "\n",
    "# Transforma lista em string separada por vírgula\n",
    "df['cores'] = df['cores'].apply(lambda lista: ', '.join(lista) if lista else None)\n",
    "\n",
    "# Resultado\n",
    "print(df[['marca', 'cores', 'preco']])"
   ]
  },
  {
   "cell_type": "code",
   "execution_count": 19,
   "metadata": {},
   "outputs": [
    {
     "name": "stdout",
     "output_type": "stream",
     "text": [
      "                                               marca   preco            cores  \\\n",
      "0  Cadeira Gamer KBM! GAMING CG200, Preto - Pistã...  599.90            preto   \n",
      "1  Cadeira Gamer KBM! GAMING CG200, Preto e Branc...  599.90    preto, branco   \n",
      "2  Cadeira Gamer KBM! GAMING Tempest CG600, Preta...  889.90             None   \n",
      "3  Cadeira Gamer KBM! GAMING Tempest CG600, Branc...  889.90           branco   \n",
      "4  Cadeira Gamer KBM! GAMING Tempest CG500 Preta ...  839.90             None   \n",
      "5  Cadeira Gamer Mymax Mx5, Até 150Kg, Giratória ...  749.00            preto   \n",
      "6  Cadeira Gamer Prizi Canvas, Até 120Kg, Com Alm...  511.41             None   \n",
      "7  Cadeira Gamer KBM! GAMING Tempest CG600, Preta...  889.90         vermelho   \n",
      "8  Cadeira Gamer KBM! GAMING CG200, Preto e Verme...  589.90  preto, vermelho   \n",
      "9  Cadeira Gamer KBM! GAMING Tempest CG600, Cinza...  889.90            cinza   \n",
      "\n",
      "  cor_principal  \n",
      "0         preto  \n",
      "1        branco  \n",
      "2         preta  \n",
      "3        branco  \n",
      "4         preta  \n",
      "5         preto  \n",
      "6         preta  \n",
      "7         preta  \n",
      "8         preto  \n",
      "9         cinza  \n"
     ]
    }
   ],
   "source": [
    "cores = [\n",
    "    'amarelo', 'azul', 'bege', 'branca', 'branco', 'cinza',\n",
    "    'dourado', 'laranja', 'marrom', 'prata', 'preta', 'preto',\n",
    "    'rosa', 'roxo', 'verde', 'vermelho', 'uva', 'geada', 'black', \n",
    "    'ice'\n",
    "];\n",
    "\n",
    "def extrair_cor(texto):\n",
    "    texto = texto.lower()\n",
    "    for cor in cores:\n",
    "        if cor in texto:\n",
    "            return cor\n",
    "    return 'Desconhecida'\n",
    "\n",
    "df['cor_principal'] = df['marca'].apply(extrair_cor)\n",
    "\n",
    "print(df.head(10))"
   ]
  }
 ],
 "metadata": {
  "kernelspec": {
   "display_name": "Python 3",
   "language": "python",
   "name": "python3"
  },
  "language_info": {
   "codemirror_mode": {
    "name": "ipython",
    "version": 3
   },
   "file_extension": ".py",
   "mimetype": "text/x-python",
   "name": "python",
   "nbconvert_exporter": "python",
   "pygments_lexer": "ipython3",
   "version": "3.12.1"
  }
 },
 "nbformat": 4,
 "nbformat_minor": 2
}
